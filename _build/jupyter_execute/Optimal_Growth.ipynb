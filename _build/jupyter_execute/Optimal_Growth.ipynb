{
 "cells": [
  {
   "cell_type": "markdown",
   "metadata": {},
   "source": [
    "# Growth"
   ]
  },
  {
   "cell_type": "markdown",
   "metadata": {},
   "source": [
    "[![Open In Colab](https://colab.research.google.com/assets/colab-badge.svg)](https://colab.research.google.com/github/julprat/DP-RL/blob/main/Optimal_Growth.ipynb)"
   ]
  },
  {
   "cell_type": "markdown",
   "metadata": {},
   "source": [
    "## Exercises from the Class Notes"
   ]
  },
  {
   "cell_type": "markdown",
   "metadata": {},
   "source": [
    "### Exercise 3.1\n",
    "\n",
    "Assume that (A1)-(A3) hold. Which of the assumptions presented in Lectures 1 and 2 are satisfied?"
   ]
  },
  {
   "cell_type": "markdown",
   "metadata": {},
   "source": [
    "<details>\n",
    "<summary><b>Solution</b></summary>\n",
    "\n",
    "Assumptions A1.1, A1.2, A2.1, A2.3, and A2.4. In assumption A2.2, $F$ is not bounded under (A1)-(A3). However, we can assume that capital is at most equal to the maximum maintainable capital stock."
   ]
  },
  {
   "cell_type": "markdown",
   "metadata": {},
   "source": [
    "### Exercise 3.2\n",
    "\n",
    "Show that, for any $k_0 \\in (0,k_{max}]$, the optimal sequence $\\{k_t\\}_{t=0}^{\\infty}$ defined by $k_{t+1}=g(k_t)$ converges monotonically to $k^*=f'^{-1}(1/\\beta)$."
   ]
  },
  {
   "cell_type": "markdown",
   "metadata": {},
   "source": [
    "<details>\n",
    "<summary><b>Solution</b></summary>\n",
    "\n",
    "From fact that $v$ is strictly concave, we have\n",
    "\n",
    "\\begin{equation*}\n",
    "    \\{v^{'}\\left(k\\right) - v^{'}[g\\left(k\\right)]\\}[k - g\\left(k\\right)]\\leq 0, \\forall k\\in (0,\\overline{k}],\n",
    "\\end{equation*}\n",
    " \n",
    "with equality iff $g\\left(k\\right) = k$. By the FOC and EC conditions and use the fact that $U^{'}\\left(c\\right)>0$, we can conclude that\n",
    "\n",
    "\\begin{equation*}\n",
    "    [f^{'}\\left(k\\right) - \\frac{1}{\\beta}][k - g\\left(k\\right)]\\leq 0, \\forall k\\in (0,\\overline{k}], \n",
    "\\end{equation*}\n",
    "\n",
    "with equality iff $g\\left(k\\right) = k$. Since $f$ is concave, it follows that $f^{'}\\left(k\\right) \\stackrel{>}{<} \\frac{1}{\\beta}$ as $k\\stackrel{<}{>} k^{*}$ and $k \\stackrel{>}{<} g\\left(k\\right)$ that as $k \\stackrel{>}{<} k^{*}$.\n",
    "\n",
    "Consider the optimal sequence $\\{k_t\\}_{t=0}^{\\infty}$ defined by $k_{t+1}=g(k_t)$. If $k_{t} \\geq k^{*}$, then $k_{t+1} \\leq  g\\left(k_{t}\\right)$, decreasing monotonically until $k = k^{*}$. Likewise, if $k_{t} \\leq k^{*}$, then $k_{t+1} \\geq  g\\left(k_{t}\\right)$, increasing monotonically until $k = k^{*}$. Therefore the optimal sequence $\\{k_t\\}_{t=0}^{\\infty}$ converges monotonically to $k^{*}$."
   ]
  },
  {
   "cell_type": "markdown",
   "metadata": {},
   "source": [
    "### Exercise 3.3\n",
    "\n",
    "Write a code in Python that uses an iterative procedure to solve for the value function of the optimal growth model."
   ]
  },
  {
   "cell_type": "markdown",
   "metadata": {},
   "source": [
    "**Solution**"
   ]
  },
  {
   "cell_type": "code",
   "execution_count": 1,
   "metadata": {},
   "outputs": [],
   "source": [
    "# -*- coding: utf-8 -*-\n",
    "\"\"\"\n",
    "Created on Sun Nov 18 14:37:30 2018\n",
    "@author: Bruno\n",
    "\"\"\"\n",
    "\n",
    "#==============================================================================\n",
    "# Recursive Methods - Optimal Growth\n",
    "#==============================================================================\n",
    "\n",
    "import os\n",
    "import numpy as np\n",
    "from scipy.optimize import fminbound\n",
    "\n",
    "\n",
    "def bellman_operator(w, grid, β, u, f, Tw=None, compute_policy=0):\n",
    "    # === Apply linear interpolation to w === #\n",
    "    w_func = lambda x: np.interp(x, grid, w)\n",
    "\n",
    "    # == Initialize Tw if necessary == #\n",
    "    if Tw is None:\n",
    "        Tw = np.empty_like(w)\n",
    "\n",
    "    if compute_policy:\n",
    "        σ = np.empty_like(w)\n",
    "\n",
    "    # == set Tw[i] = max_c { u(c) + β E w(f(y  - c) z)} == #\n",
    "    for i, y in enumerate(grid):\n",
    "        def objective(c, y=y):\n",
    "            # return #Your code goes here\n",
    "            return - u(c) - β * w_func(f(y - c))\n",
    "        c_star = fminbound(objective, 1e-10, y)\n",
    "        if compute_policy:\n",
    "            # σ[i] = #Your code goes here #y_(t+1) as a function of y_t\n",
    "            σ[i] = f(y-c_star) #y_(t+1) as a function of y_t\n",
    "        # Tw[i] = #Your code goes here\n",
    "        Tw[i] = - objective(c_star)\n",
    "\n",
    "    if compute_policy:\n",
    "        return Tw, σ\n",
    "    else:\n",
    "        return Tw\n",
    "\n",
    "\n",
    "\n",
    "def solve_optgrowth(initial_w, grid, β, u, f, tol=1e-4, max_iter=500):\n",
    "\n",
    "    w = initial_w  # Set initial condition\n",
    "    error = tol + 1\n",
    "    i = 0\n",
    "\n",
    "    # == Create storage array for bellman_operator. Reduces  memory\n",
    "    # allocation and speeds code up == #\n",
    "    Tw = np.empty(len(grid))\n",
    "\n",
    "    # Iterate to find solution\n",
    "    while error > tol and i < max_iter:\n",
    "        w_new = bellman_operator(w,\n",
    "                                 grid,\n",
    "                                 β,\n",
    "                                 u,\n",
    "                                 f,\n",
    "                                 Tw)\n",
    "        # error = #Your code goes here \n",
    "        error = np.max(np.abs(w_new - w))\n",
    "        w[:] = w_new\n",
    "        i += 1\n",
    "        print(\"Iteration \"+str(i)+'\\n Error is '+str(error)+'\\n') if i % 50 == 0 or error < tol else None\n",
    "\n",
    "        \n",
    "    # Computes policy\n",
    "    policy = bellman_operator(w,\n",
    "                             grid,\n",
    "                             β,\n",
    "                             u,\n",
    "                             f,\n",
    "                             Tw,\n",
    "                             compute_policy=1)[1]\n",
    " \n",
    "    return [w, policy]\n",
    "\n",
    "\n",
    "\n",
    "class CES_OG:\n",
    "    \"\"\"\n",
    "    Constant elasticity of substitution optimal growth model so that\n",
    "\n",
    "        y = f(k) = k^α\n",
    "\n",
    "\n",
    "    The class holds parameters and true value and policy functions.\n",
    "    \"\"\"\n",
    "\n",
    "    def __init__(self, α=0.4, β=0.96, sigma=0.9):\n",
    "\n",
    "        self.α, self.β, self.sigma = α, β, sigma \n",
    "\n",
    "    def u(self, c):\n",
    "        \" Utility \"\n",
    "        return (c**(1-self.sigma)-1)/(1-self.sigma)\n",
    "\n",
    "    def f(self, k):\n",
    "        \" Deterministic part of production function.  \"\n",
    "        return k**self.α\n",
    "\n"
   ]
  },
  {
   "cell_type": "code",
   "execution_count": 2,
   "metadata": {},
   "outputs": [
    {
     "name": "stdout",
     "output_type": "stream",
     "text": [
      "Iteration 50\n",
      " Error is 0.13013875164658373\n",
      "\n"
     ]
    },
    {
     "name": "stdout",
     "output_type": "stream",
     "text": [
      "Iteration 100\n",
      " Error is 0.01690317836253641\n",
      "\n"
     ]
    },
    {
     "name": "stdout",
     "output_type": "stream",
     "text": [
      "Iteration 150\n",
      " Error is 0.002195483316992153\n",
      "\n"
     ]
    },
    {
     "name": "stdout",
     "output_type": "stream",
     "text": [
      "Iteration 200\n",
      " Error is 0.000285165329962922\n",
      "\n"
     ]
    },
    {
     "name": "stdout",
     "output_type": "stream",
     "text": [
      "Iteration 226\n",
      " Error is 9.86611846087726e-05\n",
      "\n"
     ]
    }
   ],
   "source": [
    "# Creation of the model\n",
    "ces = CES_OG()\n",
    "# == Unpack parameters / functions for convenience == #\n",
    "α, β, sigma = ces.α, ces.β, ces.sigma\n",
    "\n",
    "\n",
    "### Setup of the grid\n",
    "grid_max = 1         # Largest grid point\n",
    "grid_size = 200      # Number of grid points\n",
    "grid = np.linspace(1e-5, grid_max, grid_size)\n",
    "\n",
    "# Initial conditions and shocks\n",
    "initial_w = 5 * np.log(grid)\n",
    "\n",
    "\n",
    "# Computation of the value function\n",
    "solve = solve_optgrowth(initial_w, grid, β, u=ces.u,\n",
    "                               f=ces.f, tol=1e-4, max_iter=500)\n",
    "\n",
    "value_approx = solve[0]\n",
    "policy_function = solve[1]\n"
   ]
  },
  {
   "cell_type": "code",
   "execution_count": 3,
   "metadata": {},
   "outputs": [
    {
     "data": {
      "image/png": "[encoded data removed]",
      "text/plain": [
       "<Figure size 900x500 with 1 Axes>"
      ]
     },
     "metadata": {},
     "output_type": "display_data"
    }
   ],
   "source": [
    "\n",
    "#==============================================================================\n",
    "# Plotting value function\n",
    "#==============================================================================\n",
    "import matplotlib.pyplot as plt\n",
    "\n",
    "fig, ax = plt.subplots(figsize=(9, 5))\n",
    "ax.set_ylim(min(value_approx), max(value_approx))\n",
    "ax.plot(grid, value_approx, lw=2, alpha=0.6, label='approximate value function')\n",
    "ax.set_xlabel('y')\n",
    "ax.set_ylabel('v')\n",
    "ax.legend(loc='lower right')\n",
    "plt.show()"
   ]
  },
  {
   "cell_type": "code",
   "execution_count": 4,
   "metadata": {},
   "outputs": [
    {
     "data": {
      "image/png": "[encoded data removed]",
      "text/plain": [
       "<Figure size 900x500 with 1 Axes>"
      ]
     },
     "metadata": {},
     "output_type": "display_data"
    }
   ],
   "source": [
    "#==============================================================================\n",
    "# Plotting Policy function\n",
    "#==============================================================================\n",
    "\n",
    "fig, ax = plt.subplots(figsize=(9, 5))\n",
    "ax.set_ylim(min(policy_function), max(policy_function))\n",
    "ax.plot(grid, policy_function, lw=2, alpha=0.6, label='approximate policy function')\n",
    "\n",
    "# 45° line\n",
    "ax.plot(grid, grid, lw=2, alpha=0.6, label='45 degrees line')\n",
    "\n",
    "ax.set_xlabel('y_t')\n",
    "ax.set_ylabel('y_(t+1)')\n",
    "ax.legend(loc='lower right')\n",
    "plt.show()"
   ]
  },
  {
   "cell_type": "markdown",
   "metadata": {},
   "source": [
    "## Additional Exercises"
   ]
  },
  {
   "cell_type": "markdown",
   "metadata": {},
   "source": [
    "### Exercise 3.4 (Sufficiency of Euler and transversality conditions)\n",
    "\n",
    "Assume that the Assumptions in Lecture 2 are satisfied. \n",
    "\n",
    "1. Show that the sequence $\\{x^*_{t+1}\\}_{t=0}^{\\infty}$ with $x^*_{t+1}\\in\\Gamma(x_t)$ for all $t\\geq 0$, is optimal for the Sequential Problem if it satisfies the Euler equation and the following transversality condition: $\\lim_{t\\rightarrow \\infty} \\beta^t F_1(x^*_{t},x^*_{t+1})\\cdot x^*_{t}=0$.\n",
    "\n",
    "2. Can we replace the transversality condition in 1 with that of the recursive problem: $\\lim_{t\\rightarrow \\infty} \\beta^t V(x^*_{t})=0$?\n"
   ]
  },
  {
   "cell_type": "markdown",
   "metadata": {},
   "source": [
    "<details>\n",
    "<summary><b>Solution</b></summary>\n",
    "\n",
    "1. It is sufficient to show that the difference between the objective function in the sequential problem evaluated at $\\{x^{*}\\}$ and at $\\{x_{t}\\}$ is nonnegative. \n",
    "\n",
    "Since $F$ is continuous, concave, and differentiable, \n",
    "\n",
    "\\begin{align*}\n",
    "    D &= \\lim_{T\\rightarrow \\infty}\\sum_{t = 0}^{T} \\beta^{t}[F\\left(x^{*}_{t}, x_{t+1}^{*}\\right) - F\\left(x_{t}, x_{t+1}\\right)]\\\\\n",
    "      &\\geq \\lim_{T\\rightarrow \\infty}\\sum_{t = 0}^{T} \\beta^{t}[F_{x}\\left(x^{*}_{t}, x_{t+1}^{*}\\right)\\left(x^{*}_{t}-x_{t}\\right) + F_{y}\\left(x^{*}_{t}, x_{t+1}^{*}\\right)\\left(x^{*}_{t+1}-x_{t+1}\\right)].\n",
    "\\end{align*}\n",
    "\n",
    "Since $x_{0}^{*} - x_{0} = 0$, rearranging terms givees\n",
    "\n",
    "\\begin{equation*}\n",
    "    D \\geq \\lim_{T\\rightarrow \\infty}\\{\\sum_{t = 0}^{T-1} \\beta^{t}[F_{y}\\left(x^{*}_{t}, x_{t+1}^{*}\\right) + \\beta F_{x}\\left(x^{*}_{t+1}, x_{t+2}^{*}\\right)]\\left(x^{*}_{t+1}-x_{t+1}\\right) + \\beta^{T} F_{y}\\left(x^{*}_{T}, x_{T+1}^{*}\\right)\\left(x^{*}_{T+1}-x_{T+1}\\right)\\}.\n",
    "\\end{equation*}\n",
    "\n",
    "Since $\\{x^{*}\\}$ satisfies the FOC, the terms in the summation are all zero. Therefore, by the FOC and EC,\n",
    "\n",
    "\\begin{align*}\n",
    "    D &\\geq -\\lim_{T\\rightarrow \\infty}\\beta^{T} F_{x}\\left(x^{*}_{T}, x_{T+1}^{*}\\right)\\left(x^{*}_{T}-x_{T}\\right)\\\\\n",
    "      &\\geq -\\lim_{T\\rightarrow \\infty}\\beta^{T} F_{x}\\left(x^{*}_{T}, x_{T+1}^{*}\\right)x^{*}_{T}.\n",
    "\\end{align*}\n",
    "\n",
    "It then follows that $D\\geq 0$, establishing the desired result.\n",
    "\n",
    "2. Yes, because the value function is concave in this setting.\n"
   ]
  },
  {
   "cell_type": "markdown",
   "metadata": {},
   "source": [
    "### Exercise 3.5\n",
    "\n",
    "1. Let $\\bar{k}=f(\\bar{k})$ denote the maximum maintainable capital stock. Show that the standard assumptions on $f$ and $U$ ensure that for any $k\\in(0,\\bar{k}]$, the solution of the Bellman equation is at an interior value for $k'$, so that $v$ is continuously differentiable on $(0,\\bar{k}]$, and that the FOC and Envelope Condition (EC) hold for all $k\\in(0,\\bar{k}]$.\n",
    "\n",
    "2. Use the EC to show that the policy function $g(k)$ is strictly increasing."
   ]
  },
  {
   "cell_type": "markdown",
   "metadata": {},
   "source": [
    "<details>\n",
    "<summary><b>Solution</b></summary>\n",
    "\n",
    "1. Pick any $k\\in (0,\\overline{k}]$. To see that $g\\left(k\\right) \\in \\left(0,\\overline{k}\\right)$, suppose $g\\left(k\\right) = 0$. Then,\n",
    "\n",
    "\\begin{equation*}\n",
    "    U^{'}[f\\left(k\\right)]\\geq \\beta v^{'}\\left(0\\right) = \\beta U^{'}[f\\left(0\\right) - g\\left(0\\right)]f^{'}\\left(0\\right)\n",
    "\\end{equation*}\n",
    "\n",
    "but the left-hand side is finite while the right-had side is not. There $k\\left(k\\right) = 0$ cannot not be optimal.\n",
    "\n",
    "Suppose then $g\\left(k\\right) = \\overline{k}$. Because $k\\in (0,\\overline{k}]$, and consumption is nonnegative, it must be that $k = \\overline{k}$. Hence,\n",
    "\n",
    "\\begin{equation*}\n",
    "    U^{'}[f\\left(\\overline{k}\\right)-\\overline{k}]\\leq \\beta v^{'}\\left(\\overline{k}\\right) = \\beta U^{'}[f\\left(\\overline{k}\\right) - g\\left(\\overline{k}\\right)]f^{'}\\left(\\overline{k}\\right),\n",
    "\\end{equation*}\n",
    "\n",
    "but the left-hand side of the inequality stated above is not finite. On the other hand, feasibility requires that $g\\left(\\overline{k}\\right)\\leq \\overline{k}$. If $g\\left(\\overline{k}\\right)= \\overline{k}$, this implies zero consumption even after, which is suboptimal. Hence $g\\left(\\overline{k}\\right)< \\overline{k}$. But\n",
    "\n",
    "\\begin{equation*}\n",
    "    \\infty = U^{'}\\left(0\\right) = U^{'}[f\\left(\\overline{k}\\right) - \\overline{k}]\\leq \\beta U^{'}[f\\left(\\overline{k}\\right) - g\\left(\\overline{k}\\right)]f^{'}\\left(\\overline{k}\\right),\n",
    "\\end{equation*}\n",
    "\n",
    "and the right-hand side is finite, which is a contradiction. Therefore, the solution of the Bellman equation is an interior value for $k^{'}$. By Theorem 4.11 (Differentiability of the value function), v is contiunously differentiable on $(0,\\overline{k}]$.\n",
    "\n",
    "\n",
    "2. Pick $k,\\ k^{'}\\in (0,\\overline{k}]$, with $k<k^{'}$. Suppose $g\\left(k\\right)\\geq g\\left(k^{'}\\right)$. Then $v$ being strictly concave implies \n",
    "\n",
    "\\begin{equation*}\n",
    "U^{'}[f\\left(k\\right)-g\\left(k\\right)] = \\beta v^{'}[g\\left(k\\right)]\\leq \\beta v^{'}[g\\left(k^{'}\\right)] = U^{'}[f\\left(k^{'}\\right)-g\\left(k^{'}\\right)].\n",
    "\\end{equation*}\n",
    "\n",
    "Hence, by $U$ being strictly concave,\n",
    "\n",
    "\\begin{equation*}\n",
    "    f\\left(k\\right) - g\\left(k\\right)\\geq f\\left(k^{'}\\right) - g\\left(k^{'}\\right).\n",
    "\\end{equation*}\n",
    "\n",
    "Then, $f$ being strictily increasing implies\n",
    "\n",
    "\\begin{equation*}\n",
    "    g\\left(k^{'}\\right) - g\\left(k\\right)\\geq f\\left(k^{'}\\right) - f\\left(k^{'}\\right)>0,\n",
    "\\end{equation*}\n",
    "\n",
    "and so $g\\left(k^{'}\\right)>g\\left(k\\right)$, which is a contraction."
   ]
  },
  {
   "cell_type": "markdown",
   "metadata": {},
   "source": [
    "### Exercise 3.6 \n",
    "\n",
    "Consider a modification of the canonical growth model where capital goods are produced using only labor. We endow the consumer with one unit labor, and assume that $c_t=n_tf(k_t/n_t) \\text{ and } k_{t+1}=1-n_t.$ We also assume that $\\lim_{n\\rightarrow 0} nf(k,n)=0$ for all $k\\in[0,1]$.\n",
    "\n",
    "1. Write the Bellman equation. Derive the FOC and EC.\n",
    "\n",
    "2. Find a necessary condition that must be satisfied by the stationary capital stock. Prove that it indeed identifies the steady-state.\n",
    "3. Let $U(c)=c^{\\alpha}$ with $\\alpha \\in (0,1)$ and $f(x)=x^{\\theta}$ with $\\theta \\in (0,1)$. Use the FOC to show that the policy function $g(k)$ is strictly decreasing on $[0,1]$. "
   ]
  },
  {
   "cell_type": "markdown",
   "metadata": {},
   "source": [
    "<details>\n",
    "<summary><b>Solution</b></summary>\n",
    "\n",
    "1. The Bellman equation can be written as \n",
    "\n",
    "\\begin{equation*}\n",
    "    v\\left(k_{t}\\right) = \\max_{k_{t+1}\\in [0,1]} \\{U[\\left(1-k_{t+1}\\right)f\\left(\\frac{k_{t}}{1-k_{t+1}}\\right)] + \\beta v\\left(k_{t+1}\\right)\\}.\n",
    "\\end{equation*}\n",
    "\n",
    "Let $g$ denote the policy funtion. The first-order and envelope conditions are given by\n",
    "\n",
    "\\begin{equation*}\n",
    "    U^{'}\\left([1-g\\left(k_{t}\\right)]f[\\frac{k_{t}}{1-g\\left(k_{t}\\right)}]\\right) \\times \\{f[\\frac{k_{t}}{1-g\\left(k_{t}\\right)}]-\\frac{k_{t}}{1-g\\left(k_{t}\\right)}f^{'}[\\frac{k_{t}}{1-g\\left(k_{t}\\right)}]\\} = \\beta v^{'}[g\\left(k_{t}\\right)]\n",
    "\\end{equation*}\n",
    "\n",
    "\\begin{equation*}\n",
    "    v^{'}\\left(k_{t}\\right) = U^{'}\\left([1-g\\left(k_{t}\\right)]f[\\frac{k_{t}}{1-g\\left(k_{t}\\right)}]\\right)f^{'}[\\frac{k_{t}}{1-g\\left(k_{t}\\right)}].\n",
    "\n",
    "\\end{equation*}\n",
    "\n",
    "2. Setting $g\\left(k_{t}\\right) = k_{t}$ and eliminating $k_{t}^{'}$, a necessary condition for a stationary point is\n",
    "\n",
    "\\begin{equation*}\n",
    "    f\\left(\\frac{k_{t}}{1-k_{t}}\\right)-\\left(\\frac{k_{t}}{1-k_{t}} + \\beta\\right)f^{'}\\left(\\frac{k_{t}}{1-k_{t}}\\right) = 0.\n",
    "\\end{equation*}\n",
    "\n",
    "By the assumptions on $f$, the equation above has exactly one solution, denoted as $k^{*}$. Since $v$ is strictly concave, the condition in Exercise 3.2 holds. Substituting from the FOC and EC, we have \n",
    "\n",
    "\\begin{equation*}\n",
    "\\{[\\beta + \\frac{k_{t}}{1-g\\left(k_{t}\\right)}]f^{'}[\\frac{k_{t}}{1-g\\left(k_{t}\\right)}] + f[\\frac{k_{t}}{1-g\\left(k_{t}\\right)}]\\}[k_{t}-g\\left(k_{t}\\right)]\\leq 0\n",
    "\\end{equation*}\n",
    "\n",
    "with equality only if $g\\left(k_{t}\\right) = k_{t}$. Therefore $k^{*}$ is indeed a stationary point.\n",
    "\n",
    "3. Pick $k,\\ k^{'}\\in (0,\\overline{k}]$, with $k<k^{'}$. Suppose $g\\left(k\\right)\\geq g\\left(k^{'}\\right)$. With the specific function forms, the FOC is given by\n",
    "\n",
    "\\begin{equation*}\n",
    "    \\alpha [\\left(1-g\\left(k\\right)\\right)\\left(\\frac{k}{1-g\\left(k\\right)}\\right)^{\\theta}]^{\\alpha-1}[\\left(\\frac{k}{1-g\\left(k\\right)}\\right)^{\\theta} - \\frac{\\theta k}{1-g\\left(k\\right)}\\left(\\frac{k}{1-g\\left(k\\right)}\\right)^{\\theta-1}] = \\beta v^{'}[g\\left(k\\right)].\n",
    "\\end{equation*}\n",
    "\n",
    "As $v$ is strictly concave, we have\n",
    "\n",
    "\\begin{align*}\n",
    "    & \\alpha [\\left(1-g\\left(k^{'}\\right)\\right)\\left(\\frac{k^{'}}{1-g\\left(k^{'}\\right)}\\right)^{\\theta}]^{\\alpha-1}[\\left(\\frac{k^{'}}{1-g\\left(k^{'}\\right)}\\right)^{\\theta} - \\frac{\\theta k^{'}}{1-g\\left(k^{'}\\right)}\\left(\\frac{k^{'}}{1-g\\left(k^{'}\\right)}\\right)^{\\theta-1}]\\\\\n",
    "    \n",
    "    & \\leq \\alpha [\\left(1-g\\left(k\\right)\\right)\\left(\\frac{k}{1-g\\left(k\\right)}\\right)^{\\theta}]^{\\alpha-1}[\\left(\\frac{k}{1-g\\left(k\\right)}\\right)^{\\theta} - \\frac{\\theta k}{1-g\\left(k\\right)}\\left(\\frac{k}{1-g\\left(k\\right)}\\right)^{\\theta-1}],\n",
    "\\end{align*}\n",
    "\n",
    "which implies\n",
    "\n",
    "\\begin{equation*}\n",
    "    1 < \\frac{k^{'}}{k}<[\\frac{1-g\\left(k^{'}\\right)}{1-g\\left(k\\right)}]^{\\gamma},\n",
    "\\end{equation*}\n",
    "\n",
    "where\n",
    "\n",
    "\\begin{equation*}\n",
    "    \\gamma = -[\\frac{\\left(1-\\theta\\right)\\left(\\alpha-1\\right)-\\theta}{\\theta\\alpha}]>0.\n",
    "\\end{equation*}\n",
    "\n",
    "Hence,\n",
    "\n",
    "\\begin{equation*}\n",
    "    \\frac{1-g\\left(k^{'}\\right)}{1-g\\left(k\\right)}>1,\n",
    "\\end{equation*}\n",
    "\n",
    "and so $g\\left(k^{'}\\right)<g\\left(k\\right)$, which is a contradiction."
   ]
  },
  {
   "cell_type": "markdown",
   "metadata": {},
   "source": [
    "## Phase Diagram\n",
    "\n",
    "The code below is borrowed from [QuantEcon](https://python.quantecon.org/cass_koopmans_1.html)\n",
    "\n",
    "It displays the phase diagram of the infinite horizon growth model when\n",
    "\n",
    "1. Utility function is CRRA: $U(c)=\\frac{c^{1-\\gamma}}{1-\\gamma}$;\n",
    "\n",
    "2. Production function is Cobb-Douglas with fixed labor supply: $F(K,1)=K^{\\alpha}$."
   ]
  },
  {
   "cell_type": "markdown",
   "metadata": {},
   "source": [
    "```python\n",
    "\n",
    "import matplotlib.pyplot as plt\n",
    "from numba import njit, float64\n",
    "from numba.experimental import jitclass\n",
    "import numpy as np\n",
    "from quantecon.optimize import brentq"
   ]
  },
  {
   "cell_type": "markdown",
   "metadata": {},
   "source": [
    "We first define a [jitclass](https://numba.pydata.org/numba-doc/dev/user/jitclass.html) that stores parameters and functions that define our economy."
   ]
  },
  {
   "cell_type": "markdown",
   "metadata": {},
   "source": [
    "```python\n",
    "\n",
    "planning_data = [\n",
    "    ('γ', float64),    # Coefficient of relative risk aversion\n",
    "    ('β', float64),    # Discount factor\n",
    "    ('δ', float64),    # Depreciation rate on capital\n",
    "    ('α', float64),    # Return to capital per capita\n",
    "    ('A', float64)     # Technology\n",
    "]"
   ]
  },
  {
   "cell_type": "markdown",
   "metadata": {},
   "source": [
    "```python\n",
    "\n",
    "@jitclass(planning_data)\n",
    "class PlanningProblem():\n",
    "\n",
    "    def __init__(self, γ=2, β=0.95, δ=0.02, α=0.33, A=1):\n",
    "\n",
    "        self.γ, self.β = γ, β\n",
    "        self.δ, self.α, self.A = δ, α, A\n",
    "\n",
    "    def u(self, c):\n",
    "        '''\n",
    "        Utility function\n",
    "        ASIDE: If you have a utility function that is hard to solve by hand\n",
    "        you can use automatic or symbolic differentiation\n",
    "        See https://github.com/HIPS/autograd\n",
    "        '''\n",
    "        γ = self.γ\n",
    "\n",
    "        return c ** (1 - γ) / (1 - γ) if γ!= 1 else np.log(c)\n",
    "\n",
    "    def u_prime(self, c):\n",
    "        'Derivative of utility'\n",
    "        γ = self.γ\n",
    "\n",
    "        return c ** (-γ)\n",
    "\n",
    "    def u_prime_inv(self, c):\n",
    "        'Inverse of derivative of utility'\n",
    "        γ = self.γ\n",
    "\n",
    "        return c ** (-1 / γ)\n",
    "\n",
    "    def f(self, k):\n",
    "        'Production function'\n",
    "        α, A = self.α, self.A\n",
    "\n",
    "        return A * k ** α\n",
    "\n",
    "    def f_prime(self, k):\n",
    "        'Derivative of production function'\n",
    "        α, A = self.α, self.A\n",
    "\n",
    "        return α * A * k ** (α - 1)\n",
    "\n",
    "    def f_prime_inv(self, k):\n",
    "        'Inverse of derivative of production function'\n",
    "        α, A = self.α, self.A\n",
    "\n",
    "        return (k / (A * α)) ** (1 / (α - 1))\n",
    "\n",
    "    def next_k_c(self, k, c):\n",
    "        ''''\n",
    "        Given the current capital Kt and an arbitrary feasible\n",
    "        consumption choice Ct, computes Kt+1 by state transition law\n",
    "        and optimal Ct+1 by Euler equation.\n",
    "        '''\n",
    "        β, δ = self.β, self.δ\n",
    "        u_prime, u_prime_inv = self.u_prime, self.u_prime_inv\n",
    "        f, f_prime = self.f, self.f_prime\n",
    "\n",
    "        k_next = f(k) + (1 - δ) * k - c\n",
    "        c_next = u_prime_inv(u_prime(c) / (β * (f_prime(k_next) + (1 - δ))))\n",
    "\n",
    "        return k_next, c_next"
   ]
  },
  {
   "cell_type": "markdown",
   "metadata": {},
   "source": [
    "```python\n",
    "\n",
    "# Create economy instance\n",
    "pp = PlanningProblem()"
   ]
  },
  {
   "cell_type": "markdown",
   "metadata": {},
   "source": [
    "```python\n",
    "\n",
    "# Compute stable manifold for Consumption\n",
    "@njit\n",
    "def C_tilde(K, pp):\n",
    "\n",
    "    return pp.f(K) + (1 - pp.δ) * K - pp.f_prime_inv(1 / pp.β - 1 + pp.δ)\n",
    "\n",
    "# Compute stable manifold for Capital\n",
    "@njit\n",
    "def K_diff(K, C, pp):\n",
    "\n",
    "    return pp.f(K) - pp.δ * K - C\n",
    "\n",
    "@njit\n",
    "def K_tilde(C, pp):\n",
    "\n",
    "    res = brentq(K_diff, 1e-6, 100, args=(C, pp))\n",
    "\n",
    "    return res.root\n"
   ]
  },
  {
   "cell_type": "markdown",
   "metadata": {},
   "source": [
    "```python\n",
    "\n",
    "# Compute steady-state by combining the two stable manifolds\n",
    "@njit\n",
    "def K_tilde_diff(K, pp):\n",
    "\n",
    "    K_out = K_tilde(C_tilde(K, pp), pp)\n",
    "\n",
    "    return K - K_out\n",
    "\n",
    "res = brentq(K_tilde_diff, 8, 10, args=(pp,))\n",
    "\n",
    "Ks = res.root\n",
    "Cs = C_tilde(Ks, pp)\n",
    "\n",
    "Ks, Cs"
   ]
  },
  {
   "cell_type": "markdown",
   "metadata": {},
   "source": [
    "```python\n",
    "\n",
    "# Implements the shooting algorithm for the planning problem.\n",
    "@njit\n",
    "def shooting(pp, c0, k0, T=10):\n",
    "    '''\n",
    "    Given the initial condition of capital k0 and an initial guess\n",
    "    of consumption c0, computes the whole paths of c and k\n",
    "    using the state transition law and Euler equation for T periods.\n",
    "    '''\n",
    "    if c0 > pp.f(k0) + (1 - pp.δ) * k0:\n",
    "        print(\"initial consumption is not feasible\")\n",
    "\n",
    "        return None\n",
    "\n",
    "    # initialize vectors of c and k\n",
    "    c_vec = np.empty(T+1)\n",
    "    k_vec = np.empty(T+2)\n",
    "\n",
    "    c_vec[0] = c0\n",
    "    k_vec[0] = k0\n",
    "\n",
    "    for t in range(T):\n",
    "        k_vec[t+1], c_vec[t+1] = pp.next_k_c(k_vec[t], c_vec[t])\n",
    "\n",
    "    k_vec[T+1] = pp.f(k_vec[T]) + (1 - pp.δ) * k_vec[T] - c_vec[T]\n",
    "\n",
    "    return c_vec, k_vec"
   ]
  },
  {
   "cell_type": "markdown",
   "metadata": {},
   "source": [
    "```python\n",
    "\n",
    "# Use a bisection method to match the terminal condition\n",
    "@njit\n",
    "def bisection(pp, c0, k0, T=10, tol=1e-4, max_iter=500, k_ter=0, verbose=True):\n",
    "\n",
    "    # initial boundaries for guess c0\n",
    "    c0_upper = pp.f(k0)\n",
    "    c0_lower = 0\n",
    "\n",
    "    i = 0\n",
    "    while True:\n",
    "        c_vec, k_vec = shooting(pp, c0, k0, T)\n",
    "        error = k_vec[-1] - k_ter\n",
    "\n",
    "        # check if the terminal condition is satisfied\n",
    "        if np.abs(error) < tol:\n",
    "            if verbose:\n",
    "                print('Converged successfully on iteration ', i+1)\n",
    "            return c_vec, k_vec\n",
    "\n",
    "        i += 1\n",
    "        if i == max_iter:\n",
    "            if verbose:\n",
    "                print('Convergence failed.')\n",
    "            return c_vec, k_vec\n",
    "\n",
    "        # if iteration continues, updates boundaries and guess of c0\n",
    "        if error > 0:\n",
    "            c0_lower = c0\n",
    "        else:\n",
    "            c0_upper = c0\n",
    "\n",
    "        c0 = (c0_lower + c0_upper) / 2"
   ]
  },
  {
   "cell_type": "markdown",
   "metadata": {},
   "source": [
    "We now compute two trajectories towards the steady-state that start from different sides of K_{S}. "
   ]
  },
  {
   "cell_type": "markdown",
   "metadata": {},
   "source": [
    "```python\n",
    "\n",
    "c_vec1, k_vec1 = bisection(pp, 5, 15, T=200, k_ter=Ks)\n",
    "c_vec2, k_vec2 = bisection(pp, 1e-3, 1e-3, T=200, k_ter=Ks)"
   ]
  },
  {
   "cell_type": "markdown",
   "metadata": {},
   "source": [
    "```python\n",
    "\n",
    "# Plot Phase Diagram\n",
    "fig, ax = plt.subplots(figsize=(7, 5))\n",
    "\n",
    "K_range = np.arange(1e-1, 15, 0.1)\n",
    "C_range = np.arange(1e-1, 2.3, 0.1)\n",
    "\n",
    "# C tilde\n",
    "ax.plot(K_range, [C_tilde(Ks, pp) for Ks in K_range], color='b')\n",
    "ax.text(11.8, 4, r'$C=\\tilde{C}(K)$', color='b')\n",
    "\n",
    "# K tilde\n",
    "ax.plot([K_tilde(Cs, pp) for Cs in C_range], C_range, color='r')\n",
    "ax.text(2, 1.5, r'$K=\\tilde{K}(C)$', color='r')\n",
    "\n",
    "# stable branch\n",
    "ax.plot(k_vec1[:-1], c_vec1, color='g')\n",
    "ax.plot(k_vec2[:-1], c_vec2, color='g')\n",
    "ax.quiver(k_vec1[5], c_vec1[5],\n",
    "          k_vec1[6]-k_vec1[5], c_vec1[6]-c_vec1[5],\n",
    "          color='g')\n",
    "ax.quiver(k_vec2[5], c_vec2[5],\n",
    "          k_vec2[6]-k_vec2[5], c_vec2[6]-c_vec2[5],\n",
    "          color='g')\n",
    "ax.text(12, 2.5, r'stable branch', color='g')\n",
    "\n",
    "# (Ks, Cs)\n",
    "ax.scatter(Ks, Cs)\n",
    "ax.text(Ks-1.2, Cs+0.2, '$(K_s, C_s)$')\n",
    "\n",
    "# arrows\n",
    "K_range = np.linspace(1e-3, 15, 20)\n",
    "C_range = np.linspace(1e-3, 7.5, 20)\n",
    "K_mesh, C_mesh = np.meshgrid(K_range, C_range)\n",
    "\n",
    "next_K, next_C = pp.next_k_c(K_mesh, C_mesh)\n",
    "ax.quiver(K_range, C_range, next_K-K_mesh, next_C-C_mesh)\n",
    "\n",
    "# infeasible consumption area\n",
    "ax.text(0.5, 5, \"infeasible\\n consumption\")\n",
    "\n",
    "ax.set_ylim([0, 7.5])\n",
    "ax.set_xlim([0, 15])\n",
    "\n",
    "ax.set_xlabel('$K$')\n",
    "ax.set_ylabel('$C$')\n",
    "\n",
    "plt.show()"
   ]
  },
  {
   "cell_type": "markdown",
   "metadata": {},
   "source": [
    "![Untitled](_images/Phase_Diagram.png)"
   ]
  }
 ],
 "metadata": {
  "kernelspec": {
   "display_name": "book",
   "language": "python",
   "name": "python3"
  },
  "language_info": {
   "codemirror_mode": {
    "name": "ipython",
    "version": 3
   },
   "file_extension": ".py",
   "mimetype": "text/x-python",
   "name": "python",
   "nbconvert_exporter": "python",
   "pygments_lexer": "ipython3",
   "version": "3.10.14"
  }
 },
 "nbformat": 4,
 "nbformat_minor": 2
}
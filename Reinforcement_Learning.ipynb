{
 "cells": [
  {
   "cell_type": "markdown",
   "metadata": {},
   "source": [
    "# Reinforcement Learning"
   ]
  },
  {
   "cell_type": "markdown",
   "metadata": {},
   "source": [
    "## Multi-Armed Bandits"
   ]
  },
  {
   "cell_type": "markdown",
   "metadata": {},
   "source": [
    "**Acknowledgement**: This presentation is borrowed from Tim Miller's website [Mastering Reinforcement Learning](https://gibberblot.github.io/rl-notes/single-agent/multi-armed-bandits.html)."
   ]
  },
  {
   "cell_type": "markdown",
   "metadata": {},
   "source": [
    "### Definition\n",
    "A multi-armed bandit is defined by a set of random variables $X_{i,k}$ where: (i) $i\\in\\{1,2,..,N\\}$ is the arm of the bandit; (ii) $k$ is the index of the play.\n",
    "\n",
    "Draws are independently distributed and the gambler does not know the probability distributions of the random variables. The gambler plays succesive rounds, observes the reward from the selected arm after each round, and then adjusts her strategy with the objective of maximizing the rewards collected over all rounds."
   ]
  },
  {
   "cell_type": "markdown",
   "metadata": {},
   "source": [
    "### Q-Value\n",
    "\n",
    "The **Q-value** of an action is defined as the **expected reward** for taking action $a$, i.e. $Q(a) = \\mathbb{E}[R | A = a]$. The true Q-value being unknown, it must be estimated. In practice, one can use the sample average of observed rewards to estimate the Q-value:\n",
    "\n",
    "\\begin{align*}\n",
    "Q(a) = \\frac{1}{N(a)} \\sum_{i=1}^{t} X_{\\{a,i\\}},\n",
    "\\end{align*}\n",
    "where $t$ is the number of rounds so far, $N(a)$ is the number of times action $a$ has been selected in previous rounds, and $X_{\\{a,i\\}}$ is the reward obtained in the $i-th$ round for playing arm $a$."
   ]
  },
  {
   "cell_type": "markdown",
   "metadata": {},
   "source": [
    "### Exploration-Exploitation Dilemna\n",
    "\n",
    "After having explored her options for some time, the grambler forms a belief for the Q-value of each arm. Then she can switch to a greedy strategy, selecting only the actions that have given her the best rewards so far. However, being greedy may also lead the gambler to overlook the most profitable arm. Thus, she should follow a strategy that exploit the actions that have been profitable so far, while still exploring other actions. This tension is known as the **exploration vs. exploitation dilemma**."
   ]
  },
  {
   "cell_type": "markdown",
   "metadata": {},
   "source": [
    "### Implementation\n",
    "\n",
    "We borrowed the code from Tim Miller's website [Mastering Reinforcement Learning](https://gibberblot.github.io/rl-notes/single-agent/multi-armed-bandits.html). A smaller repo containing all the programs required for this implementation is available [HERE](https://github.com/julprat/Armed_Bandits).\n",
    "\n",
    "The implementation of the strategy below inherits from the class `MultiArmedBandit`:"
   ]
  },
  {
   "cell_type": "code",
   "execution_count": 1,
   "metadata": {},
   "outputs": [],
   "source": [
    "class MultiArmedBandit():\n",
    "\n",
    "    \"\"\" Select an action for this state given from a list given a Q-function \"\"\"\n",
    "\n",
    "    def select(self, state, actions, qfunction):\n",
    "        abstract\n",
    "\n",
    "    \"\"\" Reset a multi-armed bandit to its initial configuration \"\"\"\n",
    "\n",
    "    def reset(self):\n",
    "        self.__init__()"
   ]
  },
  {
   "cell_type": "markdown",
   "metadata": {},
   "source": [
    "### Simulation\n",
    "\n",
    "To demonstrate the effect of a multi-armed bandit strategy, we use the simulation below. The simulation is an implementation of a simple multi-armed bandit problem with five actions and their associated probabilities. \n",
    "\n",
    "The simulation runs 2000 episodes of a bandit problem, with each episode being 1000 steps long. At each step, the agent must chose an action. At the beginning of each episode, the bandit strategies are reset. The simulation returns a list of lists, representing the reward received at each step of each episode. The aim for the bandit is to maximise the expected rewards over each episode."
   ]
  },
  {
   "cell_type": "markdown",
   "metadata": {},
   "source": [
    "```python\n",
    "\n",
    "from collections import defaultdict\n",
    "import random\n",
    "from qtable import QTable\n",
    "\n",
    "\n",
    "\"\"\" Run a bandit algorithm for a number of episodes, with each episode\n",
    "being a set length.\n",
    "\"\"\"\n",
    "\n",
    "def run_bandit(bandit, episodes=200, episode_length=500, drift=True):\n",
    "\n",
    "    # The actions available\n",
    "    actions = [0, 1, 2, 3, 4]\n",
    "\n",
    "    # A dummy state\n",
    "    state = 1\n",
    "\n",
    "    rewards = []\n",
    "    for _ in range(0, episodes):\n",
    "        bandit.reset()\n",
    "\n",
    "        # The probability of receiving a payoff of 1 for each action\n",
    "        probabilities = [0.1, 0.3, 0.7, 0.2, 0.1]\n",
    "\n",
    "        # The number of times each arm has been selected\n",
    "        times_selected = defaultdict(lambda: 0)\n",
    "        qtable = QTable()\n",
    "\n",
    "        episode_rewards = []\n",
    "        for step in range(0, episode_length):\n",
    "\n",
    "            # Halfway through the episode, change the probabilities\n",
    "            if drift and step == episode_length / 2:\n",
    "                probabilities = [0.5, 0.2, 0.0, 0.3, 0.3]\n",
    "\n",
    "            # Select an action using the bandit\n",
    "            action = bandit.select(state, actions, qtable)\n",
    "\n",
    "            # Get the reward for that action\n",
    "            reward = 0\n",
    "            if random.random() < probabilities[action]:\n",
    "                reward = 5\n",
    "\n",
    "            episode_rewards += [reward]\n",
    "\n",
    "            times_selected[action] = times_selected[action] + 1\n",
    "            qtable.update(\n",
    "                state,\n",
    "                action,\n",
    "                (reward / times_selected[action])\n",
    "                - (qtable.get_q_value(state, action) / times_selected[action]),\n",
    "            )\n",
    "\n",
    "        rewards += [episode_rewards]\n",
    "\n",
    "    return rewards"
   ]
  },
  {
   "cell_type": "markdown",
   "metadata": {},
   "source": [
    "### $\\varepsilon$-greedy strategy\n",
    "\n",
    "The $\\varepsilon$-greedy strategy balances exploration and exploitation by setting the parameter $\\epsilon$ which controls how much the gambler explores. Each time she selects an action, the gambler uses this strategy:\n",
    "\n",
    "1. With probability $1-\\varepsilon$, the gambler **exploits** the armed-bandit by picking the arm with the maximum Q-value (in the case of a tie between several actions, the tie is broken randomly);\n",
    "2. With probability $\\varepsilon$, the gambler **explores** by picking a random arm, using a uniform probability to select her pick."
   ]
  },
  {
   "cell_type": "markdown",
   "metadata": {},
   "source": [
    "![Untitled](_images/Epsilon_Greedy.png)"
   ]
  },
  {
   "cell_type": "markdown",
   "metadata": {},
   "source": [
    "The $\\varepsilon$-greedy strategy is implemented by the code below, using the `random()` function to pick a random number between $0$ and $1$."
   ]
  },
  {
   "cell_type": "markdown",
   "metadata": {},
   "source": [
    "```python\n",
    "\n",
    "import random\n",
    "from multi_armed_bandit.multi_armed_bandit import MultiArmedBandit\n",
    "\n",
    "\n",
    "class EpsilonGreedy(MultiArmedBandit):\n",
    "    def __init__(self, epsilon=0.1):\n",
    "        self.epsilon = epsilon\n",
    "\n",
    "    def reset(self):\n",
    "        pass\n",
    "\n",
    "    def select(self, state, actions, qfunction):\n",
    "        # Select a random action with epsilon probability\n",
    "        if random.random() < self.epsilon:\n",
    "            return random.choice(actions)\n",
    "        arg_max_q = qfunction.get_argmax_q(state, actions)\n",
    "        return arg_max_q"
   ]
  },
  {
   "cell_type": "markdown",
   "metadata": {},
   "source": [
    "The following plot shows the reward for each step, averaged over 2000 episodes. Each episode is 1000 steps long. We evaluate different values of $\\epsilon$. The simulations illustrate the exploration-exploitation dilemna: High $\\epsilon$ have a lower reward in the long-run, but low $\\epsilon$ never converge to the opimal reward. \n",
    "\n",
    "For our parametric example, choosing $\\epsilon$ between 0.05 and 0.1 is a good strategy. However, there is no universal value for the $\\epsilon$ parameter, its optimal value varies across applications."
   ]
  },
  {
   "cell_type": "markdown",
   "metadata": {},
   "source": [
    "![Untitled](_images/Armed_Bandits.png)"
   ]
  },
  {
   "cell_type": "markdown",
   "metadata": {},
   "source": [
    "## Value Iteration"
   ]
  },
  {
   "cell_type": "markdown",
   "metadata": {},
   "source": [
    "### Policy Evaluation"
   ]
  },
  {
   "cell_type": "markdown",
   "metadata": {},
   "source": [
    "Instead of jointly solving for the value function and optimal policy function, as done in previous chapters, we can instead start by exploiting an arbitrary policy and evaluate its value function."
   ]
  },
  {
   "cell_type": "markdown",
   "metadata": {},
   "source": [
    "![Untitled](_images/Policy_Evaluation.png)"
   ]
  },
  {
   "cell_type": "markdown",
   "metadata": {},
   "source": [
    "We now provide an illustration of this approach for the optimal growth model."
   ]
  },
  {
   "cell_type": "code",
   "execution_count": 30,
   "metadata": {},
   "outputs": [],
   "source": [
    "#==============================================================================\n",
    "# Optimal Growth: Evalution of Policy Function\n",
    "#==============================================================================\n",
    "import os\n",
    "import numpy as np\n",
    "from scipy.optimize import fminbound\n",
    "\n",
    "def iterative_policy(w, pol, grid, β, u, f, Tw=None):\n",
    "    # === Apply linear interpolation to w === #\n",
    "    w_func = lambda x: np.interp(x, grid, w)\n",
    "\n",
    "    # == Initialize Tw if necessary == #\n",
    "    if Tw is None:\n",
    "        Tw = np.empty_like(w)\n",
    "\n",
    "    # == set Tw[i] = max_c { u(c) + β E w(f(y  - c))} == #\n",
    "    for i, y in enumerate(grid):\n",
    "        Tw[i] = u(pol[i])+β * w_func(f(y - pol[i]))\n",
    "\n",
    "    return Tw\n",
    "\n",
    "def solve_optgrowth_policy(initial_w, pol, grid, β, u, f, tol=1e-4, max_iter=500):\n",
    "    w = np.empty(len(grid))\n",
    "    # w = initial_w  # Set initial condition\n",
    "    w[:] = initial_w  # Set initial condition\n",
    "    \n",
    "    error = tol + 1\n",
    "    i = 0\n",
    "\n",
    "    # == Create storage array for bellman_operator. Reduces  memory\n",
    "    # allocation and speeds code up == #\n",
    "    Tw = np.empty(len(grid))\n",
    "\n",
    "    # Iterate to find solution\n",
    "    while error > tol and i < max_iter:\n",
    "        w_new = iterative_policy(w,\n",
    "                                 pol,\n",
    "                                 grid,\n",
    "                                 β,\n",
    "                                 u,\n",
    "                                 f,\n",
    "                                 Tw)\n",
    "        error = np.max(np.abs(w_new - w))\n",
    "        w[:] = w_new\n",
    "        i += 1\n",
    "        print(\"Iteration \"+str(i)+'\\n Error is '+str(error)+'\\n') if i % 50 == 0 or error < tol else None\n",
    "\n",
    "    return [w]\n",
    "\n",
    "class CES_OG:\n",
    "    \"\"\"\n",
    "    Constant elasticity of substitution optimal growth model so that\n",
    "\n",
    "        y = f(k) = k^α\n",
    "    The class holds parameters and true value and policy functions.\n",
    "    \"\"\"\n",
    "\n",
    "    def __init__(self, α=0.4, β=0.96, sigma=0.9):\n",
    "\n",
    "        self.α, self.β, self.sigma = α, β, sigma \n",
    "\n",
    "    def u(self, c):\n",
    "        \" Utility \"\n",
    "        return (c**(1-self.sigma)-1)/(1-self.sigma)\n",
    "\n",
    "    def f(self, k):\n",
    "        \" Deterministic part of production function.  \"\n",
    "        return k**self.α"
   ]
  },
  {
   "cell_type": "markdown",
   "metadata": {},
   "source": [
    "We instantiate the class `CES_OG` and define the grid."
   ]
  },
  {
   "cell_type": "code",
   "execution_count": 31,
   "metadata": {},
   "outputs": [],
   "source": [
    "# Creation of the model\n",
    "ces = CES_OG()\n",
    "# == Unpack parameters / functions for convenience == #\n",
    "α, β, sigma = ces.α, ces.β, ces.sigma\n",
    "\n",
    "### Setup of the grid\n",
    "grid_max = 1         # Largest grid point\n",
    "grid_size = 200      # Number of grid points\n",
    "grid = np.linspace(1e-5, grid_max, grid_size)"
   ]
  },
  {
   "cell_type": "markdown",
   "metadata": {},
   "source": [
    "Then we define the **arbitrary policy** to be evaluated."
   ]
  },
  {
   "cell_type": "code",
   "execution_count": 3,
   "metadata": {},
   "outputs": [],
   "source": [
    "# Policy function to be evaluated\n",
    "policy  = .5*grid \n",
    "\n",
    "# Initial guess for the value function\n",
    "guess_w  = ces.u(policy)"
   ]
  },
  {
   "cell_type": "markdown",
   "metadata": {},
   "source": [
    "Finally, we evaluate the value function associated to our arbitrary policy."
   ]
  },
  {
   "cell_type": "code",
   "execution_count": 32,
   "metadata": {},
   "outputs": [
    {
     "name": "stdout",
     "output_type": "stream",
     "text": [
      "Iteration 50\n",
      " Error is 0.13793108074803584\n",
      "\n",
      "Iteration 100\n",
      " Error is 0.017915287874316732\n",
      "\n",
      "Iteration 150\n",
      " Error is 0.002326941381738834\n",
      "\n",
      "Iteration 200\n",
      " Error is 0.00030223662785289207\n",
      "\n",
      "Iteration 228\n",
      " Error is 9.636994700912282e-05\n",
      "\n"
     ]
    }
   ],
   "source": [
    "# Computation of the value function\n",
    "solve = solve_optgrowth_policy(guess_w, policy, grid, β, u=ces.u,\n",
    "                               f=ces.f, tol=1e-4, max_iter=500)\n",
    "value_approx = solve[0]"
   ]
  },
  {
   "cell_type": "code",
   "execution_count": 33,
   "metadata": {},
   "outputs": [
    {
     "data": {
      "image/png": "[encoded data removed]",
      "text/plain": [
       "<Figure size 900x500 with 1 Axes>"
      ]
     },
     "metadata": {},
     "output_type": "display_data"
    }
   ],
   "source": [
    "#==============================================================================\n",
    "# Plotting value function\n",
    "#==============================================================================\n",
    "import matplotlib.pyplot as plt\n",
    "\n",
    "fig, ax = plt.subplots(figsize=(9, 5))\n",
    "ax.plot(grid, value_approx, lw=2, alpha=0.6, label='approximate value function')\n",
    "ax.plot(grid, guess_w, lw=2, alpha=0.6, label='guessed value function')\n",
    "ax.set_xlabel('c')\n",
    "ax.set_ylabel('v')\n",
    "ax.legend(loc='lower right')\n",
    "plt.show()"
   ]
  },
  {
   "cell_type": "markdown",
   "metadata": {},
   "source": [
    "The figure above compares our initial guess with the approximated value function resulting from the arbitrary policy."
   ]
  },
  {
   "cell_type": "markdown",
   "metadata": {},
   "source": [
    "### Policy Iteration"
   ]
  },
  {
   "cell_type": "markdown",
   "metadata": {},
   "source": [
    "We can combine policy evaluation with policy improvement to evaluate the value function generated by the optimal policy."
   ]
  },
  {
   "cell_type": "markdown",
   "metadata": {},
   "source": [
    "![Untitled](_images/Policy_Iteration.png)"
   ]
  },
  {
   "cell_type": "markdown",
   "metadata": {},
   "source": [
    "We now provide an illustration of this approach for the optimal growth model."
   ]
  },
  {
   "cell_type": "code",
   "execution_count": 40,
   "metadata": {},
   "outputs": [],
   "source": [
    "#==============================================================================\n",
    "# Optimal Growth: Policy Iteration\n",
    "#==============================================================================\n",
    "\n",
    "def evaluation_policy(w, pol, grid, β, u, f):\n",
    "    # === Apply linear interpolation to w === #\n",
    "    w_func = lambda x: np.interp(x, grid, w)\n",
    "\n",
    "    Tw = np.empty_like(w)\n",
    "\n",
    "    # == set Tw[i] = max_c { u(c) + β E w(f(y  - c))} == #\n",
    "    for i, y in enumerate(grid):\n",
    "        Tw[i] = u(pol[i])+β * w_func(f(y - pol[i]))\n",
    "\n",
    "    return Tw\n",
    "\n",
    "def improve_policy(w, grid, β, u, f, Tw=None):\n",
    "    # === Apply linear interpolation to w === #\n",
    "    w_func = lambda x: np.interp(x, grid, w)\n",
    "\n",
    "    # == Initialize Tw if necessary == #\n",
    "    if Tw is None:\n",
    "        Tw = np.empty_like(w)\n",
    "\n",
    "    Tpolicy = np.empty_like(w)\n",
    "\n",
    "    # == set Tw[i] = max_c { u(c) + β E w(f(y  - c))} == #\n",
    "    for i, y in enumerate(grid):\n",
    "        def objective(c, y=y):\n",
    "            return - u(c) - β * w_func(f(y - c))\n",
    "        c_star = fminbound(objective, 1e-10, y)\n",
    "        \n",
    "        Tpolicy[i] = c_star \n",
    "\n",
    "        Tw[i] = - objective(c_star)\n",
    "\n",
    "    return Tw, Tpolicy\n",
    "\n",
    "def solve_optgrowth_policy(initial_w, pol, grid, β, u, f, tol=1e-4, max_iter=500):\n",
    "    w = np.empty(len(grid))\n",
    "    w[:] = initial_w  # Set initial condition\n",
    "   \n",
    "    error = tol + 1\n",
    "    i = 0\n",
    "\n",
    "    # == Create storage array for bellman_operator. Reduces  memory\n",
    "    # allocation and speeds code up == #\n",
    "    Tw = np.empty(len(grid))\n",
    "\n",
    "    # Iterate to find solution\n",
    "    while error > tol and i < max_iter:\n",
    "        w_new = evaluation_policy(w,\n",
    "                                 pol,\n",
    "                                 grid,\n",
    "                                 β,\n",
    "                                 u,\n",
    "                                 f)\n",
    "        error = np.max(np.abs(w_new - w))\n",
    "        w[:] = w_new\n",
    "        i += 1\n",
    "    \n",
    "    return [w]\n",
    "\n",
    "# Policy function to be evaluated\n",
    "policy  = .5*grid \n",
    "\n",
    "# Initial guess for the value function\n",
    "guess_w  = ces.u(policy)"
   ]
  },
  {
   "cell_type": "markdown",
   "metadata": {},
   "source": [
    "We provide below an example of how to compute the value function resulting from the conjectured policy, and then store in `solve_improve` the improved policy associated to the new value function."
   ]
  },
  {
   "cell_type": "code",
   "execution_count": 41,
   "metadata": {},
   "outputs": [],
   "source": [
    "# Computation of the initial value function\n",
    "solve = solve_optgrowth_policy(guess_w, policy, grid, β, u=ces.u,\n",
    "                               f=ces.f, tol=1e-4, max_iter=500)\n",
    "value_approx = solve[0]\n",
    "\n",
    "# Computation of the updated policy function\n",
    "solve_improve = improve_policy(value_approx, grid, β, u=ces.u, f=ces.f)"
   ]
  },
  {
   "cell_type": "markdown",
   "metadata": {},
   "source": [
    "Repeating the steps above iteratively until convergence allows us to approximate the true value function and optimal policy."
   ]
  },
  {
   "cell_type": "code",
   "execution_count": 42,
   "metadata": {},
   "outputs": [
    {
     "name": "stdout",
     "output_type": "stream",
     "text": [
      "Iteration 1\n",
      " Error is 0.1310681176524393\n",
      "\n",
      "Iteration 2\n",
      " Error is 0.0061036722306999636\n",
      "\n",
      "Iteration 3\n",
      " Error is 0.0015584785903355325\n",
      "\n",
      "Iteration 4\n",
      " Error is 9.152334480444502e-05\n",
      "\n"
     ]
    }
   ],
   "source": [
    "# Iterated procedure\n",
    "tol=1e-4\n",
    "error = tol + 1\n",
    "i = 0\n",
    "max_iter=500\n",
    "w=np.empty(len(grid))\n",
    "w[:] = guess_w\n",
    "w_history = [] \n",
    "\n",
    "while error > tol and i < max_iter:\n",
    "    solve_eval = solve_optgrowth_policy(w, policy, grid, β, u=ces.u,\n",
    "                                f=ces.f, tol=1e-4, max_iter=500)\n",
    "    w_approx = solve_eval[0]\n",
    "    solve_improve = improve_policy(w_approx, grid, β, u=ces.u, f=ces.f, Tw=None)\n",
    "    w_new = solve_improve[0]\n",
    "    policy_new=solve_improve[1]\n",
    "    error = np.max(np.abs(policy_new - policy))\n",
    "    policy[:] = policy_new\n",
    "    w[:] = w_new\n",
    "    w_history.append(w.copy())  # Append a copy of w to the list\n",
    "    i += 1\n",
    "    print(\"Iteration \"+str(i)+'\\n Error is '+str(error)+'\\n')\n",
    "\n",
    "value_final = w_new"
   ]
  },
  {
   "cell_type": "code",
   "execution_count": 43,
   "metadata": {},
   "outputs": [
    {
     "data": {
      "image/png": "[encoded data removed]",
      "text/plain": [
       "<Figure size 900x500 with 1 Axes>"
      ]
     },
     "metadata": {},
     "output_type": "display_data"
    }
   ],
   "source": [
    "#==============================================================================\n",
    "# Plotting value functions\n",
    "#==============================================================================\n",
    "\n",
    "w_matrix = np.array(w_history)  # Convert the list to a matrix\n",
    "\n",
    "fig, ax = plt.subplots(figsize=(9, 5))\n",
    "ax.set_ylim(min(value_final), max(value_final))\n",
    "for i in range(w_matrix.shape[0]):\n",
    "    ax.plot(w_matrix[i], lw=2, alpha=0.6, label='Value Function at Iteration '+str(i+1))\n",
    "ax.set_xlabel('c')\n",
    "ax.set_ylabel('v')\n",
    "ax.legend(loc='lower right')\n",
    "plt.show()"
   ]
  },
  {
   "cell_type": "markdown",
   "metadata": {},
   "source": [
    "The figure above shows the value functions at each iteration. Note that the total number of iterations is significantly smaller than in the nested procedure, where the value and policy functions are updated simultaneously."
   ]
  },
  {
   "cell_type": "markdown",
   "metadata": {},
   "source": [
    "## Reinforcement Learning"
   ]
  },
  {
   "cell_type": "markdown",
   "metadata": {},
   "source": [
    "[This repository](https://github.com/AntonioSerrano/Implementation-of-RL-algorithms-from-Sutton-and-Barto-2018) provides code, exercises and solutions from\n",
    "\n",
    "- [Reinforcement Learning: An Introduction (2nd Edition)](http://incompleteideas.net/book/RLbook2018.pdf)\n",
    "\n",
    "Each folder in [the repository](https://github.com/AntonioSerrano/Implementation-of-RL-algorithms-from-Sutton-and-Barto-2018) corresponds to one or more chapters of the above textbook and/or course. In addition to exercises and solution, each folder also contains a list of learning goals, a brief concept summary, and links to the relevant readings.\n",
    "\n",
    "All code is written in Python 3 and uses RL environments from [OpenAI Gym](https://gym.openai.com/). Advanced techniques use [Tensorflow](https://www.tensorflow.org/) for neural network implementations."
   ]
  }
 ],
 "metadata": {
  "kernelspec": {
   "display_name": "book",
   "language": "python",
   "name": "python3"
  },
  "language_info": {
   "codemirror_mode": {
    "name": "ipython",
    "version": 3
   },
   "file_extension": ".py",
   "mimetype": "text/x-python",
   "name": "python",
   "nbconvert_exporter": "python",
   "pygments_lexer": "ipython3",
   "version": "3.10.14"
  }
 },
 "nbformat": 4,
 "nbformat_minor": 2
}
